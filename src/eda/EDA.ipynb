{
 "cells": [
  {
   "cell_type": "code",
   "execution_count": 1,
   "id": "18e1e9b7-68ce-48e6-ad75-36bd93fed666",
   "metadata": {},
   "outputs": [
    {
     "name": "stderr",
     "output_type": "stream",
     "text": [
      "Failed to detect the name of this notebook, you can set it manually with the WANDB_NOTEBOOK_NAME environment variable to enable code saving.\n",
      "\u001b[34m\u001b[1mwandb\u001b[0m: Currently logged in as: \u001b[33ma-ngo\u001b[0m. Use \u001b[1m`wandb login --relogin`\u001b[0m to force relogin\n"
     ]
    },
    {
     "data": {
      "text/html": [
       "wandb version 0.17.4 is available!  To upgrade, please run:\n",
       " $ pip install wandb --upgrade"
      ],
      "text/plain": [
       "<IPython.core.display.HTML object>"
      ]
     },
     "metadata": {},
     "output_type": "display_data"
    },
    {
     "data": {
      "text/html": [
       "Tracking run with wandb version 0.16.0"
      ],
      "text/plain": [
       "<IPython.core.display.HTML object>"
      ]
     },
     "metadata": {},
     "output_type": "display_data"
    },
    {
     "data": {
      "text/html": [
       "Run data is saved locally in <code>/Users/anthony/workspace/build-ml-pipeline-for-short-term-rental-prices/src/eda/wandb/run-20240705_160436-weazowsi</code>"
      ],
      "text/plain": [
       "<IPython.core.display.HTML object>"
      ]
     },
     "metadata": {},
     "output_type": "display_data"
    },
    {
     "data": {
      "text/html": [
       "Syncing run <strong><a href='https://wandb.ai/a-ngo/nyc_airbnb/runs/weazowsi' target=\"_blank\">northern-meadow-29</a></strong> to <a href='https://wandb.ai/a-ngo/nyc_airbnb' target=\"_blank\">Weights & Biases</a> (<a href='https://wandb.me/run' target=\"_blank\">docs</a>)<br/>"
      ],
      "text/plain": [
       "<IPython.core.display.HTML object>"
      ]
     },
     "metadata": {},
     "output_type": "display_data"
    },
    {
     "data": {
      "text/html": [
       " View project at <a href='https://wandb.ai/a-ngo/nyc_airbnb' target=\"_blank\">https://wandb.ai/a-ngo/nyc_airbnb</a>"
      ],
      "text/plain": [
       "<IPython.core.display.HTML object>"
      ]
     },
     "metadata": {},
     "output_type": "display_data"
    },
    {
     "data": {
      "text/html": [
       " View run at <a href='https://wandb.ai/a-ngo/nyc_airbnb/runs/weazowsi' target=\"_blank\">https://wandb.ai/a-ngo/nyc_airbnb/runs/weazowsi</a>"
      ],
      "text/plain": [
       "<IPython.core.display.HTML object>"
      ]
     },
     "metadata": {},
     "output_type": "display_data"
    }
   ],
   "source": [
    "import wandb\n",
    "import pandas as pd\n",
    "\n",
    "# Download and read data\n",
    "## Get the created artifact from wandb and read it with pandas\n",
    "run = wandb.init(project=\"nyc_airbnb\", group=\"eda\", save_code=True)\n",
    "local_path = wandb.use_artifact(\"sample.csv:latest\").file()\n",
    "df = pd.read_csv(local_path)"
   ]
  },
  {
   "cell_type": "code",
   "execution_count": 3,
   "id": "116c0a3b-150d-492d-91c8-d71330514777",
   "metadata": {},
   "outputs": [
    {
     "name": "stdout",
     "output_type": "stream",
     "text": [
      "Collecting ipywidgets\n",
      "  Using cached ipywidgets-8.1.3-py3-none-any.whl.metadata (2.4 kB)\n",
      "Requirement already satisfied: comm>=0.1.3 in /Users/anthony/miniconda3/envs/nyc_airbnb_dev/lib/python3.10/site-packages (from ipywidgets) (0.2.2)\n",
      "Requirement already satisfied: ipython>=6.1.0 in /Users/anthony/miniconda3/envs/nyc_airbnb_dev/lib/python3.10/site-packages (from ipywidgets) (8.26.0)\n",
      "Requirement already satisfied: traitlets>=4.3.1 in /Users/anthony/miniconda3/envs/nyc_airbnb_dev/lib/python3.10/site-packages (from ipywidgets) (5.14.3)\n",
      "Collecting widgetsnbextension~=4.0.11 (from ipywidgets)\n",
      "  Using cached widgetsnbextension-4.0.11-py3-none-any.whl.metadata (1.6 kB)\n",
      "Collecting jupyterlab-widgets~=3.0.11 (from ipywidgets)\n",
      "  Using cached jupyterlab_widgets-3.0.11-py3-none-any.whl.metadata (4.1 kB)\n",
      "Requirement already satisfied: decorator in /Users/anthony/miniconda3/envs/nyc_airbnb_dev/lib/python3.10/site-packages (from ipython>=6.1.0->ipywidgets) (5.1.1)\n",
      "Requirement already satisfied: jedi>=0.16 in /Users/anthony/miniconda3/envs/nyc_airbnb_dev/lib/python3.10/site-packages (from ipython>=6.1.0->ipywidgets) (0.19.1)\n",
      "Requirement already satisfied: matplotlib-inline in /Users/anthony/miniconda3/envs/nyc_airbnb_dev/lib/python3.10/site-packages (from ipython>=6.1.0->ipywidgets) (0.1.7)\n",
      "Requirement already satisfied: prompt-toolkit<3.1.0,>=3.0.41 in /Users/anthony/miniconda3/envs/nyc_airbnb_dev/lib/python3.10/site-packages (from ipython>=6.1.0->ipywidgets) (3.0.47)\n",
      "Requirement already satisfied: pygments>=2.4.0 in /Users/anthony/miniconda3/envs/nyc_airbnb_dev/lib/python3.10/site-packages (from ipython>=6.1.0->ipywidgets) (2.18.0)\n",
      "Requirement already satisfied: stack-data in /Users/anthony/miniconda3/envs/nyc_airbnb_dev/lib/python3.10/site-packages (from ipython>=6.1.0->ipywidgets) (0.6.2)\n",
      "Requirement already satisfied: exceptiongroup in /Users/anthony/miniconda3/envs/nyc_airbnb_dev/lib/python3.10/site-packages (from ipython>=6.1.0->ipywidgets) (1.2.0)\n",
      "Requirement already satisfied: typing-extensions>=4.6 in /Users/anthony/miniconda3/envs/nyc_airbnb_dev/lib/python3.10/site-packages (from ipython>=6.1.0->ipywidgets) (4.12.2)\n",
      "Requirement already satisfied: pexpect>4.3 in /Users/anthony/miniconda3/envs/nyc_airbnb_dev/lib/python3.10/site-packages (from ipython>=6.1.0->ipywidgets) (4.9.0)\n",
      "Requirement already satisfied: parso<0.9.0,>=0.8.3 in /Users/anthony/miniconda3/envs/nyc_airbnb_dev/lib/python3.10/site-packages (from jedi>=0.16->ipython>=6.1.0->ipywidgets) (0.8.4)\n",
      "Requirement already satisfied: ptyprocess>=0.5 in /Users/anthony/miniconda3/envs/nyc_airbnb_dev/lib/python3.10/site-packages (from pexpect>4.3->ipython>=6.1.0->ipywidgets) (0.7.0)\n",
      "Requirement already satisfied: wcwidth in /Users/anthony/miniconda3/envs/nyc_airbnb_dev/lib/python3.10/site-packages (from prompt-toolkit<3.1.0,>=3.0.41->ipython>=6.1.0->ipywidgets) (0.2.13)\n",
      "Requirement already satisfied: executing>=1.2.0 in /Users/anthony/miniconda3/envs/nyc_airbnb_dev/lib/python3.10/site-packages (from stack-data->ipython>=6.1.0->ipywidgets) (2.0.1)\n",
      "Requirement already satisfied: asttokens>=2.1.0 in /Users/anthony/miniconda3/envs/nyc_airbnb_dev/lib/python3.10/site-packages (from stack-data->ipython>=6.1.0->ipywidgets) (2.4.1)\n",
      "Requirement already satisfied: pure-eval in /Users/anthony/miniconda3/envs/nyc_airbnb_dev/lib/python3.10/site-packages (from stack-data->ipython>=6.1.0->ipywidgets) (0.2.2)\n",
      "Requirement already satisfied: six>=1.12.0 in /Users/anthony/miniconda3/envs/nyc_airbnb_dev/lib/python3.10/site-packages (from asttokens>=2.1.0->stack-data->ipython>=6.1.0->ipywidgets) (1.16.0)\n",
      "Using cached ipywidgets-8.1.3-py3-none-any.whl (139 kB)\n",
      "Using cached jupyterlab_widgets-3.0.11-py3-none-any.whl (214 kB)\n",
      "Using cached widgetsnbextension-4.0.11-py3-none-any.whl (2.3 MB)\n",
      "Installing collected packages: widgetsnbextension, jupyterlab-widgets, ipywidgets\n",
      "Successfully installed ipywidgets-8.1.3 jupyterlab-widgets-3.0.11 widgetsnbextension-4.0.11\n",
      "Requirement already satisfied: ydata-profiling in /Users/anthony/miniconda3/envs/nyc_airbnb_dev/lib/python3.10/site-packages (4.8.3)\n",
      "Requirement already satisfied: scipy<1.14,>=1.4.1 in /Users/anthony/miniconda3/envs/nyc_airbnb_dev/lib/python3.10/site-packages (from ydata-profiling) (1.13.1)\n",
      "Requirement already satisfied: pandas!=1.4.0,<3,>1.1 in /Users/anthony/miniconda3/envs/nyc_airbnb_dev/lib/python3.10/site-packages (from ydata-profiling) (2.1.3)\n",
      "Requirement already satisfied: matplotlib<3.9,>=3.2 in /Users/anthony/miniconda3/envs/nyc_airbnb_dev/lib/python3.10/site-packages (from ydata-profiling) (3.8.2)\n",
      "Requirement already satisfied: pydantic>=2 in /Users/anthony/miniconda3/envs/nyc_airbnb_dev/lib/python3.10/site-packages (from ydata-profiling) (2.8.2)\n",
      "Requirement already satisfied: PyYAML<6.1,>=5.0.0 in /Users/anthony/miniconda3/envs/nyc_airbnb_dev/lib/python3.10/site-packages (from ydata-profiling) (6.0.1)\n",
      "Requirement already satisfied: jinja2<3.2,>=2.11.1 in /Users/anthony/miniconda3/envs/nyc_airbnb_dev/lib/python3.10/site-packages (from ydata-profiling) (3.1.4)\n",
      "Requirement already satisfied: visions<0.7.7,>=0.7.5 in /Users/anthony/miniconda3/envs/nyc_airbnb_dev/lib/python3.10/site-packages (from visions[type_image_path]<0.7.7,>=0.7.5->ydata-profiling) (0.7.6)\n",
      "Requirement already satisfied: numpy<2,>=1.16.0 in /Users/anthony/miniconda3/envs/nyc_airbnb_dev/lib/python3.10/site-packages (from ydata-profiling) (1.26.4)\n",
      "Requirement already satisfied: htmlmin==0.1.12 in /Users/anthony/miniconda3/envs/nyc_airbnb_dev/lib/python3.10/site-packages (from ydata-profiling) (0.1.12)\n",
      "Requirement already satisfied: phik<0.13,>=0.11.1 in /Users/anthony/miniconda3/envs/nyc_airbnb_dev/lib/python3.10/site-packages (from ydata-profiling) (0.12.4)\n",
      "Requirement already satisfied: requests<3,>=2.24.0 in /Users/anthony/miniconda3/envs/nyc_airbnb_dev/lib/python3.10/site-packages (from ydata-profiling) (2.32.3)\n",
      "Requirement already satisfied: tqdm<5,>=4.48.2 in /Users/anthony/miniconda3/envs/nyc_airbnb_dev/lib/python3.10/site-packages (from ydata-profiling) (4.66.4)\n",
      "Requirement already satisfied: seaborn<0.14,>=0.10.1 in /Users/anthony/miniconda3/envs/nyc_airbnb_dev/lib/python3.10/site-packages (from ydata-profiling) (0.13.2)\n",
      "Requirement already satisfied: multimethod<2,>=1.4 in /Users/anthony/miniconda3/envs/nyc_airbnb_dev/lib/python3.10/site-packages (from ydata-profiling) (1.12)\n",
      "Requirement already satisfied: statsmodels<1,>=0.13.2 in /Users/anthony/miniconda3/envs/nyc_airbnb_dev/lib/python3.10/site-packages (from ydata-profiling) (0.14.2)\n",
      "Requirement already satisfied: typeguard<5,>=3 in /Users/anthony/miniconda3/envs/nyc_airbnb_dev/lib/python3.10/site-packages (from ydata-profiling) (4.3.0)\n",
      "Requirement already satisfied: imagehash==4.3.1 in /Users/anthony/miniconda3/envs/nyc_airbnb_dev/lib/python3.10/site-packages (from ydata-profiling) (4.3.1)\n",
      "Requirement already satisfied: wordcloud>=1.9.1 in /Users/anthony/miniconda3/envs/nyc_airbnb_dev/lib/python3.10/site-packages (from ydata-profiling) (1.9.3)\n",
      "Requirement already satisfied: dacite>=1.8 in /Users/anthony/miniconda3/envs/nyc_airbnb_dev/lib/python3.10/site-packages (from ydata-profiling) (1.8.1)\n",
      "Requirement already satisfied: numba<1,>=0.56.0 in /Users/anthony/miniconda3/envs/nyc_airbnb_dev/lib/python3.10/site-packages (from ydata-profiling) (0.60.0)\n",
      "Requirement already satisfied: PyWavelets in /Users/anthony/miniconda3/envs/nyc_airbnb_dev/lib/python3.10/site-packages (from imagehash==4.3.1->ydata-profiling) (1.6.0)\n",
      "Requirement already satisfied: pillow in /Users/anthony/miniconda3/envs/nyc_airbnb_dev/lib/python3.10/site-packages (from imagehash==4.3.1->ydata-profiling) (10.3.0)\n",
      "Requirement already satisfied: MarkupSafe>=2.0 in /Users/anthony/miniconda3/envs/nyc_airbnb_dev/lib/python3.10/site-packages (from jinja2<3.2,>=2.11.1->ydata-profiling) (2.1.5)\n",
      "Requirement already satisfied: contourpy>=1.0.1 in /Users/anthony/miniconda3/envs/nyc_airbnb_dev/lib/python3.10/site-packages (from matplotlib<3.9,>=3.2->ydata-profiling) (1.2.1)\n",
      "Requirement already satisfied: cycler>=0.10 in /Users/anthony/miniconda3/envs/nyc_airbnb_dev/lib/python3.10/site-packages (from matplotlib<3.9,>=3.2->ydata-profiling) (0.12.1)\n",
      "Requirement already satisfied: fonttools>=4.22.0 in /Users/anthony/miniconda3/envs/nyc_airbnb_dev/lib/python3.10/site-packages (from matplotlib<3.9,>=3.2->ydata-profiling) (4.53.0)\n",
      "Requirement already satisfied: kiwisolver>=1.3.1 in /Users/anthony/miniconda3/envs/nyc_airbnb_dev/lib/python3.10/site-packages (from matplotlib<3.9,>=3.2->ydata-profiling) (1.4.5)\n",
      "Requirement already satisfied: packaging>=20.0 in /Users/anthony/miniconda3/envs/nyc_airbnb_dev/lib/python3.10/site-packages (from matplotlib<3.9,>=3.2->ydata-profiling) (23.2)\n",
      "Requirement already satisfied: pyparsing>=2.3.1 in /Users/anthony/miniconda3/envs/nyc_airbnb_dev/lib/python3.10/site-packages (from matplotlib<3.9,>=3.2->ydata-profiling) (3.1.2)\n",
      "Requirement already satisfied: python-dateutil>=2.7 in /Users/anthony/miniconda3/envs/nyc_airbnb_dev/lib/python3.10/site-packages (from matplotlib<3.9,>=3.2->ydata-profiling) (2.9.0)\n",
      "Requirement already satisfied: llvmlite<0.44,>=0.43.0dev0 in /Users/anthony/miniconda3/envs/nyc_airbnb_dev/lib/python3.10/site-packages (from numba<1,>=0.56.0->ydata-profiling) (0.43.0)\n",
      "Requirement already satisfied: pytz>=2020.1 in /Users/anthony/miniconda3/envs/nyc_airbnb_dev/lib/python3.10/site-packages (from pandas!=1.4.0,<3,>1.1->ydata-profiling) (2023.4)\n",
      "Requirement already satisfied: tzdata>=2022.1 in /Users/anthony/miniconda3/envs/nyc_airbnb_dev/lib/python3.10/site-packages (from pandas!=1.4.0,<3,>1.1->ydata-profiling) (2024.1)\n",
      "Requirement already satisfied: joblib>=0.14.1 in /Users/anthony/miniconda3/envs/nyc_airbnb_dev/lib/python3.10/site-packages (from phik<0.13,>=0.11.1->ydata-profiling) (1.4.2)\n",
      "Requirement already satisfied: annotated-types>=0.4.0 in /Users/anthony/miniconda3/envs/nyc_airbnb_dev/lib/python3.10/site-packages (from pydantic>=2->ydata-profiling) (0.7.0)\n",
      "Requirement already satisfied: pydantic-core==2.20.1 in /Users/anthony/miniconda3/envs/nyc_airbnb_dev/lib/python3.10/site-packages (from pydantic>=2->ydata-profiling) (2.20.1)\n",
      "Requirement already satisfied: typing-extensions>=4.6.1 in /Users/anthony/miniconda3/envs/nyc_airbnb_dev/lib/python3.10/site-packages (from pydantic>=2->ydata-profiling) (4.12.2)\n",
      "Requirement already satisfied: charset-normalizer<4,>=2 in /Users/anthony/miniconda3/envs/nyc_airbnb_dev/lib/python3.10/site-packages (from requests<3,>=2.24.0->ydata-profiling) (3.3.2)\n",
      "Requirement already satisfied: idna<4,>=2.5 in /Users/anthony/miniconda3/envs/nyc_airbnb_dev/lib/python3.10/site-packages (from requests<3,>=2.24.0->ydata-profiling) (3.7)\n",
      "Requirement already satisfied: urllib3<3,>=1.21.1 in /Users/anthony/miniconda3/envs/nyc_airbnb_dev/lib/python3.10/site-packages (from requests<3,>=2.24.0->ydata-profiling) (2.2.2)\n",
      "Requirement already satisfied: certifi>=2017.4.17 in /Users/anthony/miniconda3/envs/nyc_airbnb_dev/lib/python3.10/site-packages (from requests<3,>=2.24.0->ydata-profiling) (2024.6.2)\n",
      "Requirement already satisfied: patsy>=0.5.6 in /Users/anthony/miniconda3/envs/nyc_airbnb_dev/lib/python3.10/site-packages (from statsmodels<1,>=0.13.2->ydata-profiling) (0.5.6)\n",
      "Requirement already satisfied: attrs>=19.3.0 in /Users/anthony/miniconda3/envs/nyc_airbnb_dev/lib/python3.10/site-packages (from visions<0.7.7,>=0.7.5->visions[type_image_path]<0.7.7,>=0.7.5->ydata-profiling) (23.2.0)\n",
      "Requirement already satisfied: networkx>=2.4 in /Users/anthony/miniconda3/envs/nyc_airbnb_dev/lib/python3.10/site-packages (from visions<0.7.7,>=0.7.5->visions[type_image_path]<0.7.7,>=0.7.5->ydata-profiling) (3.3)\n",
      "\u001b[33mWARNING: visions 0.7.6 does not provide the extra 'type-image-path'\u001b[0m\u001b[33m\n",
      "\u001b[0mRequirement already satisfied: six in /Users/anthony/miniconda3/envs/nyc_airbnb_dev/lib/python3.10/site-packages (from patsy>=0.5.6->statsmodels<1,>=0.13.2->ydata-profiling) (1.16.0)\n"
     ]
    },
    {
     "name": "stderr",
     "output_type": "stream",
     "text": [
      "Summarize dataset:   0%|          | 0/5 [00:00<?, ?it/s]/Users/anthony/miniconda3/envs/nyc_airbnb_dev/lib/python3.10/site-packages/ydata_profiling/model/typeset.py:208: FutureWarning: is_categorical_dtype is deprecated and will be removed in a future version. Use isinstance(dtype, CategoricalDtype) instead\n",
      "  is_valid_dtype = pdt.is_categorical_dtype(series) and not pdt.is_bool_dtype(\n",
      "/Users/anthony/miniconda3/envs/nyc_airbnb_dev/lib/python3.10/site-packages/ydata_profiling/model/typeset.py:125: FutureWarning: is_categorical_dtype is deprecated and will be removed in a future version. Use isinstance(dtype, CategoricalDtype) instead\n",
      "  not pdt.is_categorical_dtype(series)\n",
      "/Users/anthony/miniconda3/envs/nyc_airbnb_dev/lib/python3.10/site-packages/ydata_profiling/model/typeset.py:208: FutureWarning: is_categorical_dtype is deprecated and will be removed in a future version. Use isinstance(dtype, CategoricalDtype) instead\n",
      "  is_valid_dtype = pdt.is_categorical_dtype(series) and not pdt.is_bool_dtype(\n",
      "/Users/anthony/miniconda3/envs/nyc_airbnb_dev/lib/python3.10/site-packages/ydata_profiling/model/typeset.py:125: FutureWarning: is_categorical_dtype is deprecated and will be removed in a future version. Use isinstance(dtype, CategoricalDtype) instead\n",
      "  not pdt.is_categorical_dtype(series)\n",
      "/Users/anthony/miniconda3/envs/nyc_airbnb_dev/lib/python3.10/site-packages/ydata_profiling/model/typeset.py:208: FutureWarning: is_categorical_dtype is deprecated and will be removed in a future version. Use isinstance(dtype, CategoricalDtype) instead\n",
      "  is_valid_dtype = pdt.is_categorical_dtype(series) and not pdt.is_bool_dtype(\n",
      "/Users/anthony/miniconda3/envs/nyc_airbnb_dev/lib/python3.10/site-packages/ydata_profiling/model/typeset.py:125: FutureWarning: is_categorical_dtype is deprecated and will be removed in a future version. Use isinstance(dtype, CategoricalDtype) instead\n",
      "  not pdt.is_categorical_dtype(series)\n",
      "/Users/anthony/miniconda3/envs/nyc_airbnb_dev/lib/python3.10/site-packages/ydata_profiling/model/typeset.py:208: FutureWarning: is_categorical_dtype is deprecated and will be removed in a future version. Use isinstance(dtype, CategoricalDtype) instead\n",
      "  is_valid_dtype = pdt.is_categorical_dtype(series) and not pdt.is_bool_dtype(\n",
      "/Users/anthony/miniconda3/envs/nyc_airbnb_dev/lib/python3.10/site-packages/ydata_profiling/model/typeset.py:125: FutureWarning: is_categorical_dtype is deprecated and will be removed in a future version. Use isinstance(dtype, CategoricalDtype) instead\n",
      "  not pdt.is_categorical_dtype(series)\n",
      "/Users/anthony/miniconda3/envs/nyc_airbnb_dev/lib/python3.10/site-packages/ydata_profiling/model/typeset_relations.py:34: FutureWarning: is_categorical_dtype is deprecated and will be removed in a future version. Use isinstance(dtype, CategoricalDtype) instead\n",
      "  if pdt.is_categorical_dtype(series):\n",
      "/Users/anthony/miniconda3/envs/nyc_airbnb_dev/lib/python3.10/site-packages/ydata_profiling/model/typeset_relations.py:34: FutureWarning: is_categorical_dtype is deprecated and will be removed in a future version. Use isinstance(dtype, CategoricalDtype) instead\n",
      "  if pdt.is_categorical_dtype(series):\n",
      "/Users/anthony/miniconda3/envs/nyc_airbnb_dev/lib/python3.10/site-packages/ydata_profiling/model/typeset_relations.py:34: FutureWarning: is_categorical_dtype is deprecated and will be removed in a future version. Use isinstance(dtype, CategoricalDtype) instead\n",
      "  if pdt.is_categorical_dtype(series):\n",
      "/Users/anthony/miniconda3/envs/nyc_airbnb_dev/lib/python3.10/site-packages/ydata_profiling/model/typeset.py:208: FutureWarning: is_categorical_dtype is deprecated and will be removed in a future version. Use isinstance(dtype, CategoricalDtype) instead\n",
      "  is_valid_dtype = pdt.is_categorical_dtype(series) and not pdt.is_bool_dtype(\n",
      "/Users/anthony/miniconda3/envs/nyc_airbnb_dev/lib/python3.10/site-packages/ydata_profiling/model/typeset.py:125: FutureWarning: is_categorical_dtype is deprecated and will be removed in a future version. Use isinstance(dtype, CategoricalDtype) instead\n",
      "  not pdt.is_categorical_dtype(series)\n",
      "/Users/anthony/miniconda3/envs/nyc_airbnb_dev/lib/python3.10/site-packages/ydata_profiling/model/typeset_relations.py:34: FutureWarning: is_categorical_dtype is deprecated and will be removed in a future version. Use isinstance(dtype, CategoricalDtype) instead\n",
      "  if pdt.is_categorical_dtype(series):\n",
      "/Users/anthony/miniconda3/envs/nyc_airbnb_dev/lib/python3.10/site-packages/ydata_profiling/model/typeset.py:208: FutureWarning: is_categorical_dtype is deprecated and will be removed in a future version. Use isinstance(dtype, CategoricalDtype) instead\n",
      "  is_valid_dtype = pdt.is_categorical_dtype(series) and not pdt.is_bool_dtype(\n",
      "/Users/anthony/miniconda3/envs/nyc_airbnb_dev/lib/python3.10/site-packages/ydata_profiling/model/typeset.py:208: FutureWarning: is_categorical_dtype is deprecated and will be removed in a future version. Use isinstance(dtype, CategoricalDtype) instead\n",
      "  is_valid_dtype = pdt.is_categorical_dtype(series) and not pdt.is_bool_dtype(\n",
      "/Users/anthony/miniconda3/envs/nyc_airbnb_dev/lib/python3.10/site-packages/ydata_profiling/model/typeset_relations.py:34: FutureWarning: is_categorical_dtype is deprecated and will be removed in a future version. Use isinstance(dtype, CategoricalDtype) instead\n",
      "  if pdt.is_categorical_dtype(series):\n",
      "/Users/anthony/miniconda3/envs/nyc_airbnb_dev/lib/python3.10/site-packages/ydata_profiling/model/typeset.py:125: FutureWarning: is_categorical_dtype is deprecated and will be removed in a future version. Use isinstance(dtype, CategoricalDtype) instead\n",
      "  not pdt.is_categorical_dtype(series)\n",
      "/Users/anthony/miniconda3/envs/nyc_airbnb_dev/lib/python3.10/site-packages/ydata_profiling/model/typeset_relations.py:34: FutureWarning: is_categorical_dtype is deprecated and will be removed in a future version. Use isinstance(dtype, CategoricalDtype) instead\n",
      "  if pdt.is_categorical_dtype(series):\n",
      "/Users/anthony/miniconda3/envs/nyc_airbnb_dev/lib/python3.10/site-packages/ydata_profiling/model/typeset_relations.py:34: FutureWarning: is_categorical_dtype is deprecated and will be removed in a future version. Use isinstance(dtype, CategoricalDtype) instead\n",
      "  if pdt.is_categorical_dtype(series):\n",
      "/Users/anthony/miniconda3/envs/nyc_airbnb_dev/lib/python3.10/site-packages/ydata_profiling/model/typeset_relations.py:34: FutureWarning: is_categorical_dtype is deprecated and will be removed in a future version. Use isinstance(dtype, CategoricalDtype) instead\n",
      "  if pdt.is_categorical_dtype(series):\n",
      "/Users/anthony/miniconda3/envs/nyc_airbnb_dev/lib/python3.10/site-packages/ydata_profiling/model/typeset.py:208: FutureWarning: is_categorical_dtype is deprecated and will be removed in a future version. Use isinstance(dtype, CategoricalDtype) instead\n",
      "  is_valid_dtype = pdt.is_categorical_dtype(series) and not pdt.is_bool_dtype(\n",
      "/Users/anthony/miniconda3/envs/nyc_airbnb_dev/lib/python3.10/site-packages/ydata_profiling/model/typeset.py:125: FutureWarning: is_categorical_dtype is deprecated and will be removed in a future version. Use isinstance(dtype, CategoricalDtype) instead\n",
      "  not pdt.is_categorical_dtype(series)\n",
      "Summarize dataset:   0%|          | 0/21 [00:00<?, ?it/s, Describe variable:neighbourhood_group]/Users/anthony/miniconda3/envs/nyc_airbnb_dev/lib/python3.10/site-packages/ydata_profiling/model/typeset.py:208: FutureWarning: is_categorical_dtype is deprecated and will be removed in a future version. Use isinstance(dtype, CategoricalDtype) instead\n",
      "  is_valid_dtype = pdt.is_categorical_dtype(series) and not pdt.is_bool_dtype(\n",
      "/Users/anthony/miniconda3/envs/nyc_airbnb_dev/lib/python3.10/site-packages/ydata_profiling/model/typeset.py:125: FutureWarning: is_categorical_dtype is deprecated and will be removed in a future version. Use isinstance(dtype, CategoricalDtype) instead\n",
      "  not pdt.is_categorical_dtype(series)\n",
      "Summarize dataset:   5%|▍         | 1/21 [00:00<00:06,  2.95it/s, Describe variable:neighbourhood_group]/Users/anthony/miniconda3/envs/nyc_airbnb_dev/lib/python3.10/site-packages/ydata_profiling/model/typeset_relations.py:34: FutureWarning: is_categorical_dtype is deprecated and will be removed in a future version. Use isinstance(dtype, CategoricalDtype) instead\n",
      "  if pdt.is_categorical_dtype(series):\n",
      "/Users/anthony/miniconda3/envs/nyc_airbnb_dev/lib/python3.10/site-packages/ydata_profiling/model/typeset_relations.py:34: FutureWarning: is_categorical_dtype is deprecated and will be removed in a future version. Use isinstance(dtype, CategoricalDtype) instead\n",
      "  if pdt.is_categorical_dtype(series):\n",
      "/Users/anthony/miniconda3/envs/nyc_airbnb_dev/lib/python3.10/site-packages/ydata_profiling/model/typeset.py:208: FutureWarning: is_categorical_dtype is deprecated and will be removed in a future version. Use isinstance(dtype, CategoricalDtype) instead\n",
      "  is_valid_dtype = pdt.is_categorical_dtype(series) and not pdt.is_bool_dtype(\n",
      "/Users/anthony/miniconda3/envs/nyc_airbnb_dev/lib/python3.10/site-packages/ydata_profiling/model/typeset.py:125: FutureWarning: is_categorical_dtype is deprecated and will be removed in a future version. Use isinstance(dtype, CategoricalDtype) instead\n",
      "  not pdt.is_categorical_dtype(series)\n",
      "Summarize dataset:   5%|▍         | 1/21 [00:00<00:06,  2.95it/s, Describe variable:id]                 /Users/anthony/miniconda3/envs/nyc_airbnb_dev/lib/python3.10/site-packages/ydata_profiling/model/typeset.py:208: FutureWarning: is_categorical_dtype is deprecated and will be removed in a future version. Use isinstance(dtype, CategoricalDtype) instead\n",
      "  is_valid_dtype = pdt.is_categorical_dtype(series) and not pdt.is_bool_dtype(\n",
      "Summarize dataset:  10%|▉         | 2/21 [00:00<00:03,  4.89it/s, Describe variable:id]/Users/anthony/miniconda3/envs/nyc_airbnb_dev/lib/python3.10/site-packages/ydata_profiling/model/typeset.py:125: FutureWarning: is_categorical_dtype is deprecated and will be removed in a future version. Use isinstance(dtype, CategoricalDtype) instead\n",
      "  not pdt.is_categorical_dtype(series)\n",
      "/Users/anthony/miniconda3/envs/nyc_airbnb_dev/lib/python3.10/site-packages/ydata_profiling/model/typeset_relations.py:34: FutureWarning: is_categorical_dtype is deprecated and will be removed in a future version. Use isinstance(dtype, CategoricalDtype) instead\n",
      "  if pdt.is_categorical_dtype(series):\n",
      "/Users/anthony/miniconda3/envs/nyc_airbnb_dev/lib/python3.10/site-packages/ydata_profiling/model/typeset_relations.py:34: FutureWarning: is_categorical_dtype is deprecated and will be removed in a future version. Use isinstance(dtype, CategoricalDtype) instead\n",
      "  if pdt.is_categorical_dtype(series):\n",
      "Summarize dataset:  14%|█▍        | 3/21 [00:00<00:03,  5.79it/s, Describe variable:neighbourhood]/Users/anthony/miniconda3/envs/nyc_airbnb_dev/lib/python3.10/site-packages/ydata_profiling/model/typeset.py:208: FutureWarning: is_categorical_dtype is deprecated and will be removed in a future version. Use isinstance(dtype, CategoricalDtype) instead\n",
      "  is_valid_dtype = pdt.is_categorical_dtype(series) and not pdt.is_bool_dtype(\n",
      "Summarize dataset:  14%|█▍        | 3/21 [00:00<00:03,  5.79it/s, Describe variable:latitude]     /Users/anthony/miniconda3/envs/nyc_airbnb_dev/lib/python3.10/site-packages/ydata_profiling/model/typeset.py:125: FutureWarning: is_categorical_dtype is deprecated and will be removed in a future version. Use isinstance(dtype, CategoricalDtype) instead\n",
      "  not pdt.is_categorical_dtype(series)\n",
      "Summarize dataset:  78%|███████▊  | 18/23 [00:00<00:00, 29.23it/s, Calculate auto correlation]                      /Users/anthony/miniconda3/envs/nyc_airbnb_dev/lib/python3.10/site-packages/ydata_profiling/model/correlations.py:66: UserWarning: There was an attempt to calculate the auto correlation, but this failed.\n",
      "To hide this warning, disable the calculation\n",
      "(using `df.profile_report(correlations={\"auto\": {\"calculate\": False}})`\n",
      "If this is problematic for your use case, please report this as an issue:\n",
      "https://github.com/ydataai/ydata-profiling/issues\n",
      "(include the error message: 'Function <code object pandas_auto_compute at 0x168848710, file \"/Users/anthony/miniconda3/envs/nyc_airbnb_dev/lib/python3.10/site-packages/ydata_profiling/model/pandas/correlations_pandas.py\", line 164>')\n",
      "  warnings.warn(\n",
      "Summarize dataset: 100%|██████████| 126/126 [00:07<00:00, 17.95it/s, Completed]                                                             \n",
      "Generate report structure: 100%|██████████| 1/1 [00:03<00:00,  3.44s/it]\n",
      "Render widgets:   0%|          | 0/1 [00:00<?, ?it/s]"
     ]
    }
   ],
   "source": [
    "# Problems with versions -> pandas-profiling deprecated\n",
    "\n",
    "!pip install ipywidgets\n",
    "!pip install ydata-profiling\n",
    "\n",
    "from ydata_profiling import ProfileReport\n",
    "\n",
    "profile = ProfileReport(df)\n",
    "profile.to_widgets()"
   ]
  },
  {
   "cell_type": "code",
   "execution_count": 2,
   "id": "021745a9-1fdb-4646-a0aa-8a408d5520ae",
   "metadata": {},
   "outputs": [],
   "source": [
    "# Data Cleaning\n",
    "\n",
    "## Drop outliers\n",
    "min_price = 10\n",
    "max_price = 350\n",
    "idx = df['price'].between(min_price, max_price)\n",
    "df = df[idx].copy()\n",
    "## Convert last_review to datetime\n",
    "df['last_review'] = pd.to_datetime(df['last_review'])"
   ]
  },
  {
   "cell_type": "code",
   "execution_count": 3,
   "id": "61b81303",
   "metadata": {},
   "outputs": [
    {
     "name": "stdout",
     "output_type": "stream",
     "text": [
      "<class 'pandas.core.frame.DataFrame'>\n",
      "Index: 19001 entries, 0 to 19999\n",
      "Data columns (total 16 columns):\n",
      " #   Column                          Non-Null Count  Dtype         \n",
      "---  ------                          --------------  -----         \n",
      " 0   id                              19001 non-null  int64         \n",
      " 1   name                            18994 non-null  object        \n",
      " 2   host_id                         19001 non-null  int64         \n",
      " 3   host_name                       18993 non-null  object        \n",
      " 4   neighbourhood_group             19001 non-null  object        \n",
      " 5   neighbourhood                   19001 non-null  object        \n",
      " 6   latitude                        19001 non-null  float64       \n",
      " 7   longitude                       19001 non-null  float64       \n",
      " 8   room_type                       19001 non-null  object        \n",
      " 9   price                           19001 non-null  int64         \n",
      " 10  minimum_nights                  19001 non-null  int64         \n",
      " 11  number_of_reviews               19001 non-null  int64         \n",
      " 12  last_review                     15243 non-null  datetime64[ns]\n",
      " 13  reviews_per_month               15243 non-null  float64       \n",
      " 14  calculated_host_listings_count  19001 non-null  int64         \n",
      " 15  availability_365                19001 non-null  int64         \n",
      "dtypes: datetime64[ns](1), float64(3), int64(7), object(5)\n",
      "memory usage: 2.5+ MB\n"
     ]
    }
   ],
   "source": [
    "df.info()"
   ]
  },
  {
   "cell_type": "code",
   "execution_count": 4,
   "id": "772a0f7a",
   "metadata": {},
   "outputs": [
    {
     "name": "stderr",
     "output_type": "stream",
     "text": [
      "wandb: WARNING Source type is set to 'repo' but some required information is missing from the environment. A job will not be created from this run. See https://docs.wandb.ai/guides/launch/create-job\n"
     ]
    },
    {
     "data": {
      "text/html": [
       " View run <strong style=\"color:#cdcd00\">robust-sea-7</strong> at: <a href='https://wandb.ai/a-ngo-projects/nyc_airbnb/runs/ka4b73fr' target=\"_blank\">https://wandb.ai/a-ngo-projects/nyc_airbnb/runs/ka4b73fr</a><br/>Synced 7 W&B file(s), 0 media file(s), 0 artifact file(s) and 0 other file(s)"
      ],
      "text/plain": [
       "<IPython.core.display.HTML object>"
      ]
     },
     "metadata": {},
     "output_type": "display_data"
    },
    {
     "data": {
      "text/html": [
       "Find logs at: <code>./wandb/run-20240701_201446-ka4b73fr/logs</code>"
      ],
      "text/plain": [
       "<IPython.core.display.HTML object>"
      ]
     },
     "metadata": {},
     "output_type": "display_data"
    }
   ],
   "source": [
    "run.finish()"
   ]
  }
 ],
 "metadata": {
  "kernelspec": {
   "display_name": "Python 3 (ipykernel)",
   "language": "python",
   "name": "python3"
  },
  "language_info": {
   "codemirror_mode": {
    "name": "ipython",
    "version": 3
   },
   "file_extension": ".py",
   "mimetype": "text/x-python",
   "name": "python",
   "nbconvert_exporter": "python",
   "pygments_lexer": "ipython3",
   "version": "3.10.14"
  }
 },
 "nbformat": 4,
 "nbformat_minor": 5
}
